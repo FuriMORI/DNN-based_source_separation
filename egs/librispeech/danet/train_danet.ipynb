{
 "cells": [
  {
   "cell_type": "code",
   "execution_count": null,
   "metadata": {
    "colab": {},
    "colab_type": "code",
    "id": "xQkWUnVC2t_E"
   },
   "outputs": [],
   "source": [
    "!git clone https://github.com/tky1117/DNN-based_source_separation.git"
   ]
  },
  {
   "cell_type": "code",
   "execution_count": null,
   "metadata": {
    "colab": {},
    "colab_type": "code",
    "id": "sKSBiUUu2y8g"
   },
   "outputs": [],
   "source": [
    "!pip install soundfile # for Google colaboratory"
   ]
  },
  {
   "cell_type": "code",
   "execution_count": null,
   "metadata": {
    "colab": {},
    "colab_type": "code",
    "id": "oK3L1-hc25u2"
   },
   "outputs": [],
   "source": [
    "from google.colab import drive\n",
    "drive.mount(\"/content/drive\")"
   ]
  },
  {
   "cell_type": "code",
   "execution_count": null,
   "metadata": {
    "colab": {},
    "colab_type": "code",
    "id": "3T0lz1Kj2_-G"
   },
   "outputs": [],
   "source": [
    "%cd \"/content/DNN-based_source_separation/egs/librispeech/common\""
   ]
  },
  {
   "cell_type": "code",
   "execution_count": null,
   "metadata": {
    "colab": {},
    "colab_type": "code",
    "id": "ICZGBABc3B_w"
   },
   "outputs": [],
   "source": [
    "# !git pull"
   ]
  },
  {
   "cell_type": "code",
   "execution_count": null,
   "metadata": {
    "colab": {},
    "colab_type": "code",
    "id": "pvUi1pSA3ENg"
   },
   "outputs": [],
   "source": [
    "!chmod +x ./local/prepare_librispeech.py"
   ]
  },
  {
   "cell_type": "code",
   "execution_count": null,
   "metadata": {
    "colab": {},
    "colab_type": "code",
    "id": "ZzUCwxRD3F-P"
   },
   "outputs": [],
   "source": [
    "!. ./prepare.sh \"../../../dataset\" 2"
   ]
  },
  {
   "cell_type": "code",
   "execution_count": null,
   "metadata": {
    "colab": {},
    "colab_type": "code",
    "id": "HPti9ODm3H4m"
   },
   "outputs": [],
   "source": [
    "%cd \"/content/DNN-based_source_separation/egs/librispeech/danet\""
   ]
  },
  {
   "cell_type": "code",
   "execution_count": null,
   "metadata": {
    "colab": {},
    "colab_type": "code",
    "id": "Fb2Y21xl3Vw9"
   },
   "outputs": [],
   "source": [
    "!. ./train.sh \"/content/drive/My Drive/Colab Notebooks/work/DNN-based_source_separation/egs/librispeech/danet/exp\""
   ]
  },
  {
   "cell_type": "code",
   "execution_count": null,
   "metadata": {},
   "outputs": [],
   "source": [
    "path = \"/content/drive/My Drive/Colab Notebooks/work/DNN-based_source_separation/egs/librispeech/danet/exp/2mix/l2loss/hamming-window_ibm_threshold40/K20_H256_B4_H256_causal0_mask-sigmoid/b4_e100_rmsprop-lr1e-4-decay0/seed111/model/last.pth\""
   ]
  },
  {
   "cell_type": "code",
   "execution_count": null,
   "metadata": {
    "colab": {},
    "colab_type": "code",
    "id": "xjLNExDa6dBE"
   },
   "outputs": [],
   "source": [
    "# !. ./train.sh \"/content/drive/My Drive/Colab Notebooks/work/DNN-based_source_separation/egs/librispeech/danet/exp\""
   ]
  }
 ],
 "metadata": {
  "accelerator": "GPU",
  "colab": {
   "authorship_tag": "ABX9TyP224PtiqLlTXnJCY7OV1gp",
   "collapsed_sections": [],
   "name": "train_danet.ipynb",
   "provenance": []
  },
  "kernelspec": {
   "display_name": "Python 3",
   "language": "python",
   "name": "python3"
  },
  "language_info": {
   "codemirror_mode": {
    "name": "ipython",
    "version": 3
   },
   "file_extension": ".py",
   "mimetype": "text/x-python",
   "name": "python",
   "nbconvert_exporter": "python",
   "pygments_lexer": "ipython3",
   "version": "3.5.5"
  }
 },
 "nbformat": 4,
 "nbformat_minor": 1
}
